{
 "cells": [
  {
   "cell_type": "code",
   "execution_count": 19,
   "id": "d8db255e",
   "metadata": {},
   "outputs": [],
   "source": [
    "from datasets import load_dataset\n",
    "import pandas as pd\n",
    "import warnings\n",
    "warnings.filterwarnings(\"ignore\", category=FutureWarning)"
   ]
  },
  {
   "cell_type": "code",
   "execution_count": 20,
   "id": "12b07b4e",
   "metadata": {},
   "outputs": [],
   "source": [
    "# can change the split train, dev, test\n",
    "dataset = load_dataset(path=\"princeton-nlp/SWE-bench\", split=\"dev\")"
   ]
  },
  {
   "cell_type": "code",
   "execution_count": 21,
   "id": "576bba27",
   "metadata": {},
   "outputs": [
    {
     "data": {
      "text/html": [
       "<div>\n",
       "<style scoped>\n",
       "    .dataframe tbody tr th:only-of-type {\n",
       "        vertical-align: middle;\n",
       "    }\n",
       "\n",
       "    .dataframe tbody tr th {\n",
       "        vertical-align: top;\n",
       "    }\n",
       "\n",
       "    .dataframe thead th {\n",
       "        text-align: right;\n",
       "    }\n",
       "</style>\n",
       "<table border=\"1\" class=\"dataframe\">\n",
       "  <thead>\n",
       "    <tr style=\"text-align: right;\">\n",
       "      <th></th>\n",
       "      <th>hints_text</th>\n",
       "      <th>problem_statement</th>\n",
       "    </tr>\n",
       "  </thead>\n",
       "  <tbody>\n",
       "    <tr>\n",
       "      <th>0</th>\n",
       "      <td></td>\n",
       "      <td>Enable quiet mode/no-verbose in CLI for use in...</td>\n",
       "    </tr>\n",
       "    <tr>\n",
       "      <th>1</th>\n",
       "      <td>&gt; Version\\r\\n&gt; sqlfluff, version 0.6.2\\r\\n\\r\\n...</td>\n",
       "      <td>fix keep adding new line on wrong place \\n### ...</td>\n",
       "    </tr>\n",
       "    <tr>\n",
       "      <th>2</th>\n",
       "      <td></td>\n",
       "      <td>L026: Rule incorrectly flag column does not ex...</td>\n",
       "    </tr>\n",
       "    <tr>\n",
       "      <th>3</th>\n",
       "      <td>This is _very_ interesting! I'll pick this one...</td>\n",
       "      <td>Inconsistent output depending on --processes f...</td>\n",
       "    </tr>\n",
       "    <tr>\n",
       "      <th>4</th>\n",
       "      <td>I'll take a look.\\r\\n\\r\\nAnd darn it -- first ...</td>\n",
       "      <td>Fatal templating error with Jinja templater. T...</td>\n",
       "    </tr>\n",
       "  </tbody>\n",
       "</table>\n",
       "</div>"
      ],
      "text/plain": [
       "                                          hints_text  \\\n",
       "0                                                      \n",
       "1  > Version\\r\\n> sqlfluff, version 0.6.2\\r\\n\\r\\n...   \n",
       "2                                                      \n",
       "3  This is _very_ interesting! I'll pick this one...   \n",
       "4  I'll take a look.\\r\\n\\r\\nAnd darn it -- first ...   \n",
       "\n",
       "                                   problem_statement  \n",
       "0  Enable quiet mode/no-verbose in CLI for use in...  \n",
       "1  fix keep adding new line on wrong place \\n### ...  \n",
       "2  L026: Rule incorrectly flag column does not ex...  \n",
       "3  Inconsistent output depending on --processes f...  \n",
       "4  Fatal templating error with Jinja templater. T...  "
      ]
     },
     "execution_count": 21,
     "metadata": {},
     "output_type": "execute_result"
    }
   ],
   "source": [
    "df = pd.DataFrame(dataset)\n",
    "df = df[['hints_text', 'problem_statement']]\n",
    "df.head()"
   ]
  },
  {
   "cell_type": "code",
   "execution_count": 34,
   "id": "694eb00f",
   "metadata": {},
   "outputs": [],
   "source": [
    "from Utils import similarity_score\n",
    "\n",
    "def get_similarity_score(row : pd.Series) -> float:\n",
    "\n",
    "    if row['hints_text'] == \"\" or row['problem_statement'] == \"\":\n",
    "        return 0.0\n",
    "    \n",
    "    return similarity_score(row['hints_text'], row['problem_statement'])"
   ]
  },
  {
   "cell_type": "code",
   "execution_count": null,
   "id": "9aebeef3",
   "metadata": {},
   "outputs": [
    {
     "data": {
      "text/html": [
       "<div>\n",
       "<style scoped>\n",
       "    .dataframe tbody tr th:only-of-type {\n",
       "        vertical-align: middle;\n",
       "    }\n",
       "\n",
       "    .dataframe tbody tr th {\n",
       "        vertical-align: top;\n",
       "    }\n",
       "\n",
       "    .dataframe thead th {\n",
       "        text-align: right;\n",
       "    }\n",
       "</style>\n",
       "<table border=\"1\" class=\"dataframe\">\n",
       "  <thead>\n",
       "    <tr style=\"text-align: right;\">\n",
       "      <th></th>\n",
       "      <th>hints_text</th>\n",
       "      <th>problem_statement</th>\n",
       "      <th>similarity_score</th>\n",
       "    </tr>\n",
       "  </thead>\n",
       "  <tbody>\n",
       "    <tr>\n",
       "      <th>0</th>\n",
       "      <td></td>\n",
       "      <td>Enable quiet mode/no-verbose in CLI for use in...</td>\n",
       "      <td>0.000000</td>\n",
       "    </tr>\n",
       "    <tr>\n",
       "      <th>1</th>\n",
       "      <td>&gt; Version\\r\\n&gt; sqlfluff, version 0.6.2\\r\\n\\r\\n...</td>\n",
       "      <td>fix keep adding new line on wrong place \\n### ...</td>\n",
       "      <td>0.567407</td>\n",
       "    </tr>\n",
       "    <tr>\n",
       "      <th>2</th>\n",
       "      <td></td>\n",
       "      <td>L026: Rule incorrectly flag column does not ex...</td>\n",
       "      <td>0.000000</td>\n",
       "    </tr>\n",
       "    <tr>\n",
       "      <th>3</th>\n",
       "      <td>This is _very_ interesting! I'll pick this one...</td>\n",
       "      <td>Inconsistent output depending on --processes f...</td>\n",
       "      <td>0.501145</td>\n",
       "    </tr>\n",
       "    <tr>\n",
       "      <th>4</th>\n",
       "      <td>I'll take a look.\\r\\n\\r\\nAnd darn it -- first ...</td>\n",
       "      <td>Fatal templating error with Jinja templater. T...</td>\n",
       "      <td>0.684590</td>\n",
       "    </tr>\n",
       "  </tbody>\n",
       "</table>\n",
       "</div>"
      ],
      "text/plain": [
       "                                          hints_text  \\\n",
       "0                                                      \n",
       "1  > Version\\r\\n> sqlfluff, version 0.6.2\\r\\n\\r\\n...   \n",
       "2                                                      \n",
       "3  This is _very_ interesting! I'll pick this one...   \n",
       "4  I'll take a look.\\r\\n\\r\\nAnd darn it -- first ...   \n",
       "\n",
       "                                   problem_statement  similarity_score  \n",
       "0  Enable quiet mode/no-verbose in CLI for use in...          0.000000  \n",
       "1  fix keep adding new line on wrong place \\n### ...          0.567407  \n",
       "2  L026: Rule incorrectly flag column does not ex...          0.000000  \n",
       "3  Inconsistent output depending on --processes f...          0.501145  \n",
       "4  Fatal templating error with Jinja templater. T...          0.684590  "
      ]
     },
     "execution_count": 37,
     "metadata": {},
     "output_type": "execute_result"
    }
   ],
   "source": [
    "for i, row in df.iterrows():\n",
    "    df.at[i, 'similarity_score'] = get_similarity_score(row)"
   ]
  },
  {
   "cell_type": "code",
   "execution_count": null,
   "id": "359e36b5",
   "metadata": {},
   "outputs": [],
   "source": [
    "df.head()"
   ]
  }
 ],
 "metadata": {
  "kernelspec": {
   "display_name": "base",
   "language": "python",
   "name": "python3"
  },
  "language_info": {
   "codemirror_mode": {
    "name": "ipython",
    "version": 3
   },
   "file_extension": ".py",
   "mimetype": "text/x-python",
   "name": "python",
   "nbconvert_exporter": "python",
   "pygments_lexer": "ipython3",
   "version": "3.12.11"
  }
 },
 "nbformat": 4,
 "nbformat_minor": 5
}
