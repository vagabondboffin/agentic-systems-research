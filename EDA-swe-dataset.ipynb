{
 "cells": [
  {
   "metadata": {
    "ExecuteTime": {
     "end_time": "2025-08-11T11:15:52.111112Z",
     "start_time": "2025-08-11T11:15:52.109054Z"
    }
   },
   "cell_type": "code",
   "source": [
    "import json\n",
    "import pandas as pd"
   ],
   "id": "eff4d4ffac29bc86",
   "outputs": [],
   "execution_count": 15
  },
  {
   "cell_type": "code",
   "id": "initial_id",
   "metadata": {
    "collapsed": true,
    "ExecuteTime": {
     "end_time": "2025-08-11T11:15:54.869913Z",
     "start_time": "2025-08-11T11:15:53.532407Z"
    }
   },
   "source": [
    "from datasets import load_dataset\n",
    "\n",
    "ds = load_dataset(\"gorpeliates/swe-bench-comments\")"
   ],
   "outputs": [],
   "execution_count": 16
  },
  {
   "metadata": {
    "ExecuteTime": {
     "end_time": "2025-08-08T11:16:05.846743Z",
     "start_time": "2025-08-08T11:16:05.800121Z"
    }
   },
   "cell_type": "code",
   "source": [
    "#  'dev' split\n",
    "df = ds['dev'].to_pandas()\n",
    "\n",
    "df.to_csv(\"swe_bench_comments_dev.csv\", index=False)"
   ],
   "id": "317e7873ff13fbb2",
   "outputs": [],
   "execution_count": 2
  },
  {
   "metadata": {
    "ExecuteTime": {
     "end_time": "2025-08-08T11:16:51.147545Z",
     "start_time": "2025-08-08T11:16:51.141719Z"
    }
   },
   "cell_type": "code",
   "source": "df.head(5)",
   "id": "3e9fe7c4a898cc1",
   "outputs": [
    {
     "data": {
      "text/plain": [
       "                repo              instance_id  \\\n",
       "0  sqlfluff/sqlfluff  sqlfluff__sqlfluff-4764   \n",
       "1  sqlfluff/sqlfluff  sqlfluff__sqlfluff-2862   \n",
       "2  sqlfluff/sqlfluff  sqlfluff__sqlfluff-2336   \n",
       "3  sqlfluff/sqlfluff  sqlfluff__sqlfluff-5074   \n",
       "4  sqlfluff/sqlfluff  sqlfluff__sqlfluff-3436   \n",
       "\n",
       "                                base_commit  \\\n",
       "0  a820c139ccbe6d1865d73c4a459945cd69899f8f   \n",
       "1  447ecf862a4d2b977d0add9f444655357b9c4f1f   \n",
       "2  37a993f7ad841ab3035d1db5ce6525f2e5584fd5   \n",
       "3  7b7fd603a19755a9f3707ebbf95d18ee635716d8   \n",
       "4  23cd31e77a712a210c734e38488d7a34afd83a25   \n",
       "\n",
       "                                               patch  \\\n",
       "0  diff --git a/src/sqlfluff/cli/commands.py b/sr...   \n",
       "1  diff --git a/src/sqlfluff/core/linter/common.p...   \n",
       "2  diff --git a/src/sqlfluff/core/rules/analysis/...   \n",
       "3  diff --git a/src/sqlfluff/core/errors.py b/src...   \n",
       "4  diff --git a/src/sqlfluff/core/templaters/slic...   \n",
       "\n",
       "                                          test_patch  \\\n",
       "0  diff --git a/test/cli/commands_test.py b/test/...   \n",
       "1  diff --git a/test/api/simple_test.py b/test/ap...   \n",
       "2  diff --git a/test/core/rules/reference_test.py...   \n",
       "3  diff --git a/test/cli/commands_test.py b/test/...   \n",
       "4  diff --git a/test/core/templaters/jinja_test.p...   \n",
       "\n",
       "                                   problem_statement  \\\n",
       "0  Enable quiet mode/no-verbose in CLI for use in...   \n",
       "1  fix keep adding new line on wrong place \\n### ...   \n",
       "2  L026: Rule incorrectly flag column does not ex...   \n",
       "3  Inconsistent output depending on --processes f...   \n",
       "4  Fatal templating error with Jinja templater. T...   \n",
       "\n",
       "                                          hints_text            created_at  \\\n",
       "0                                               None  2023-04-16T14:24:42Z   \n",
       "1  > Version\\r\\n> sqlfluff, version 0.6.2\\r\\n\\r\\n...  2022-03-14T19:46:08Z   \n",
       "2                                               None  2022-01-17T21:35:10Z   \n",
       "3  This is _very_ interesting! I'll pick this one...  2023-08-08T23:31:59Z   \n",
       "4  I'll take a look.\\r\\n\\r\\nAnd darn it -- first ...  2022-06-07T21:36:59Z   \n",
       "\n",
       "   version                                       FAIL_TO_PASS  \\\n",
       "0     1.40  [\"test/cli/commands_test.py::test__cli__fix_mu...   \n",
       "1     0.10  [\"test/api/simple_test.py::test__api__lint_str...   \n",
       "2     0.80  [\"test/core/rules/reference_test.py::test_obje...   \n",
       "3     2.10  [\"test/cli/commands_test.py::test__cli__comman...   \n",
       "4     0.13  [\"test/core/templaters/jinja_test.py::test__te...   \n",
       "\n",
       "                                        PASS_TO_PASS  \\\n",
       "0  [\"test/cli/commands_test.py::test__cli__comman...   \n",
       "1  [\"test/api/simple_test.py::test__api__lint_str...   \n",
       "2                                                 []   \n",
       "3  [\"test/cli/commands_test.py::test__cli__comman...   \n",
       "4  [\"test/core/templaters/jinja_test.py::test__te...   \n",
       "\n",
       "                   environment_setup_commit  \\\n",
       "0  d19de0ecd16d298f9e3bfb91da122734c40c01e5   \n",
       "1  3d52e8270d82aeccf4c516d059a80a6947919aea   \n",
       "2  a5c4eae4e3e419fe95460c9afd9cf39a35a470c4   \n",
       "3  7b7fd603a19755a9f3707ebbf95d18ee635716d8   \n",
       "4  6e8ce43a4958dbaa56256365c2a89d8db92e07d6   \n",
       "\n",
       "                                            comments  \n",
       "0                                                 []  \n",
       "1  ['Moved this class so `BaseSegment` can use it...  \n",
       "2  ['A few small cleanups I made while adapting L...  \n",
       "3                                                 []  \n",
       "4  ['Unrelated to the fix: This comment was garbl...  "
      ],
      "text/html": [
       "<div>\n",
       "<style scoped>\n",
       "    .dataframe tbody tr th:only-of-type {\n",
       "        vertical-align: middle;\n",
       "    }\n",
       "\n",
       "    .dataframe tbody tr th {\n",
       "        vertical-align: top;\n",
       "    }\n",
       "\n",
       "    .dataframe thead th {\n",
       "        text-align: right;\n",
       "    }\n",
       "</style>\n",
       "<table border=\"1\" class=\"dataframe\">\n",
       "  <thead>\n",
       "    <tr style=\"text-align: right;\">\n",
       "      <th></th>\n",
       "      <th>repo</th>\n",
       "      <th>instance_id</th>\n",
       "      <th>base_commit</th>\n",
       "      <th>patch</th>\n",
       "      <th>test_patch</th>\n",
       "      <th>problem_statement</th>\n",
       "      <th>hints_text</th>\n",
       "      <th>created_at</th>\n",
       "      <th>version</th>\n",
       "      <th>FAIL_TO_PASS</th>\n",
       "      <th>PASS_TO_PASS</th>\n",
       "      <th>environment_setup_commit</th>\n",
       "      <th>comments</th>\n",
       "    </tr>\n",
       "  </thead>\n",
       "  <tbody>\n",
       "    <tr>\n",
       "      <th>0</th>\n",
       "      <td>sqlfluff/sqlfluff</td>\n",
       "      <td>sqlfluff__sqlfluff-4764</td>\n",
       "      <td>a820c139ccbe6d1865d73c4a459945cd69899f8f</td>\n",
       "      <td>diff --git a/src/sqlfluff/cli/commands.py b/sr...</td>\n",
       "      <td>diff --git a/test/cli/commands_test.py b/test/...</td>\n",
       "      <td>Enable quiet mode/no-verbose in CLI for use in...</td>\n",
       "      <td>None</td>\n",
       "      <td>2023-04-16T14:24:42Z</td>\n",
       "      <td>1.40</td>\n",
       "      <td>[\"test/cli/commands_test.py::test__cli__fix_mu...</td>\n",
       "      <td>[\"test/cli/commands_test.py::test__cli__comman...</td>\n",
       "      <td>d19de0ecd16d298f9e3bfb91da122734c40c01e5</td>\n",
       "      <td>[]</td>\n",
       "    </tr>\n",
       "    <tr>\n",
       "      <th>1</th>\n",
       "      <td>sqlfluff/sqlfluff</td>\n",
       "      <td>sqlfluff__sqlfluff-2862</td>\n",
       "      <td>447ecf862a4d2b977d0add9f444655357b9c4f1f</td>\n",
       "      <td>diff --git a/src/sqlfluff/core/linter/common.p...</td>\n",
       "      <td>diff --git a/test/api/simple_test.py b/test/ap...</td>\n",
       "      <td>fix keep adding new line on wrong place \\n### ...</td>\n",
       "      <td>&gt; Version\\r\\n&gt; sqlfluff, version 0.6.2\\r\\n\\r\\n...</td>\n",
       "      <td>2022-03-14T19:46:08Z</td>\n",
       "      <td>0.10</td>\n",
       "      <td>[\"test/api/simple_test.py::test__api__lint_str...</td>\n",
       "      <td>[\"test/api/simple_test.py::test__api__lint_str...</td>\n",
       "      <td>3d52e8270d82aeccf4c516d059a80a6947919aea</td>\n",
       "      <td>['Moved this class so `BaseSegment` can use it...</td>\n",
       "    </tr>\n",
       "    <tr>\n",
       "      <th>2</th>\n",
       "      <td>sqlfluff/sqlfluff</td>\n",
       "      <td>sqlfluff__sqlfluff-2336</td>\n",
       "      <td>37a993f7ad841ab3035d1db5ce6525f2e5584fd5</td>\n",
       "      <td>diff --git a/src/sqlfluff/core/rules/analysis/...</td>\n",
       "      <td>diff --git a/test/core/rules/reference_test.py...</td>\n",
       "      <td>L026: Rule incorrectly flag column does not ex...</td>\n",
       "      <td>None</td>\n",
       "      <td>2022-01-17T21:35:10Z</td>\n",
       "      <td>0.80</td>\n",
       "      <td>[\"test/core/rules/reference_test.py::test_obje...</td>\n",
       "      <td>[]</td>\n",
       "      <td>a5c4eae4e3e419fe95460c9afd9cf39a35a470c4</td>\n",
       "      <td>['A few small cleanups I made while adapting L...</td>\n",
       "    </tr>\n",
       "    <tr>\n",
       "      <th>3</th>\n",
       "      <td>sqlfluff/sqlfluff</td>\n",
       "      <td>sqlfluff__sqlfluff-5074</td>\n",
       "      <td>7b7fd603a19755a9f3707ebbf95d18ee635716d8</td>\n",
       "      <td>diff --git a/src/sqlfluff/core/errors.py b/src...</td>\n",
       "      <td>diff --git a/test/cli/commands_test.py b/test/...</td>\n",
       "      <td>Inconsistent output depending on --processes f...</td>\n",
       "      <td>This is _very_ interesting! I'll pick this one...</td>\n",
       "      <td>2023-08-08T23:31:59Z</td>\n",
       "      <td>2.10</td>\n",
       "      <td>[\"test/cli/commands_test.py::test__cli__comman...</td>\n",
       "      <td>[\"test/cli/commands_test.py::test__cli__comman...</td>\n",
       "      <td>7b7fd603a19755a9f3707ebbf95d18ee635716d8</td>\n",
       "      <td>[]</td>\n",
       "    </tr>\n",
       "    <tr>\n",
       "      <th>4</th>\n",
       "      <td>sqlfluff/sqlfluff</td>\n",
       "      <td>sqlfluff__sqlfluff-3436</td>\n",
       "      <td>23cd31e77a712a210c734e38488d7a34afd83a25</td>\n",
       "      <td>diff --git a/src/sqlfluff/core/templaters/slic...</td>\n",
       "      <td>diff --git a/test/core/templaters/jinja_test.p...</td>\n",
       "      <td>Fatal templating error with Jinja templater. T...</td>\n",
       "      <td>I'll take a look.\\r\\n\\r\\nAnd darn it -- first ...</td>\n",
       "      <td>2022-06-07T21:36:59Z</td>\n",
       "      <td>0.13</td>\n",
       "      <td>[\"test/core/templaters/jinja_test.py::test__te...</td>\n",
       "      <td>[\"test/core/templaters/jinja_test.py::test__te...</td>\n",
       "      <td>6e8ce43a4958dbaa56256365c2a89d8db92e07d6</td>\n",
       "      <td>['Unrelated to the fix: This comment was garbl...</td>\n",
       "    </tr>\n",
       "  </tbody>\n",
       "</table>\n",
       "</div>"
      ]
     },
     "execution_count": 3,
     "metadata": {},
     "output_type": "execute_result"
    }
   ],
   "execution_count": 3
  },
  {
   "metadata": {
    "ExecuteTime": {
     "end_time": "2025-08-08T11:44:29.698687Z",
     "start_time": "2025-08-08T11:44:29.695840Z"
    }
   },
   "cell_type": "code",
   "source": "sample_df = df.sample(n=20, random_state=42)",
   "id": "6e7a5bf2657de727",
   "outputs": [],
   "execution_count": 4
  },
  {
   "metadata": {
    "ExecuteTime": {
     "end_time": "2025-08-08T11:45:52.488396Z",
     "start_time": "2025-08-08T11:45:52.480434Z"
    }
   },
   "cell_type": "code",
   "source": [
    "sample_df = sample_df.reset_index(drop=True)\n",
    "sample_df.to_csv(\"swe_bench_comments_sample.csv\", index=False)"
   ],
   "id": "31d6ade6feee9a46",
   "outputs": [],
   "execution_count": 5
  },
  {
   "metadata": {
    "ExecuteTime": {
     "end_time": "2025-08-11T11:18:26.051532Z",
     "start_time": "2025-08-11T11:18:25.999226Z"
    }
   },
   "cell_type": "code",
   "source": [
    "\n",
    "df['problem_statement'] = df['problem_statement'].fillna(\"\")\n",
    "df['hints_text'] = df['hints_text'].fillna(\"\")\n",
    "\n",
    "labeled_data = []\n",
    "\n",
    "for _, row in df.iterrows():\n",
    "    problem = row['problem_statement'].strip()\n",
    "    hint = row['hints_text'].strip()\n",
    "\n",
    "    # Problem category\n",
    "    if \"loop limit\" in problem.lower():\n",
    "        problem_category = \"Autofix loop limit reached\"\n",
    "    elif \"dicom\" in problem.lower():\n",
    "        problem_category = \"DICOM file error\"\n",
    "    elif \"rename\" in problem.lower() or \"change\" in problem.lower():\n",
    "        problem_category = \"Parameter rename request\"\n",
    "    elif \"decode\" in problem.lower() or \"ambiguous vr\" in problem.lower():\n",
    "        problem_category = \"Dataset decoding error\"\n",
    "    elif \"attribute\" in problem.lower():\n",
    "        problem_category = \"Attribute assignment bug\"\n",
    "    elif \"parse\" in problem.lower():\n",
    "        problem_category = \"Parsing error\"\n",
    "    elif \"missing\" in problem.lower() and \"example\" in problem.lower():\n",
    "        problem_category = \"Missing reproducible example\"\n",
    "    elif \"false positive\" in problem.lower():\n",
    "        problem_category = \"False positive detection\"\n",
    "    else:\n",
    "        problem_category = \" \".join(problem.split()[:4])\n",
    "\n",
    "    # Hint type\n",
    "    if \"minimal\" in hint.lower() or \"example\" in hint.lower():\n",
    "        hint_type = \"Minimal reproduction example\"\n",
    "    elif \"support\" in hint.lower():\n",
    "        hint_type = \"Supportive agreement\"\n",
    "    elif \"not much\" in hint.lower() or \"cannot\" in hint.lower():\n",
    "        hint_type = \"No solution possible\"\n",
    "    elif \"traceback\" in hint.lower():\n",
    "        hint_type = \"Traceback inconclusive\"\n",
    "    elif \"patch\" in hint.lower() or \"pr\" in hint.lower():\n",
    "        hint_type = \"Patch or PR merged\"\n",
    "    elif \"not reproducible\" in hint.lower():\n",
    "        hint_type = \"Not reproducible, closing\"\n",
    "    elif hint.strip() == \"\":\n",
    "        hint_type = \"No hints provided\"\n",
    "    else:\n",
    "        hint_type = \"General comment\"\n",
    "\n",
    "    if \"not reproducible\" in hint.lower() or \"cannot reproduce\" in hint.lower():\n",
    "        is_misleading = 1\n",
    "    elif \"different\" in hint.lower() or \"actually\" in hint.lower():\n",
    "        is_misleading = 1\n",
    "    elif \"unsure\" in hint.lower():\n",
    "        is_misleading = \"?\"\n",
    "    else:\n",
    "        is_misleading = 0\n",
    "\n",
    "    labeled_data.append({\n",
    "        \"problem_category\": problem_category,\n",
    "        \"hint_type\": hint_type,\n",
    "        \"is_misleading\": is_misleading,\n",
    "    })\n",
    "\n",
    "output_path = 'swe_bench_comments_labeled.json'\n",
    "with open(output_path, 'w') as f:\n",
    "    json.dump(labeled_data, f, indent=2)\n",
    "\n",
    "output_path\n"
   ],
   "id": "15c18cf4f91e12ff",
   "outputs": [
    {
     "data": {
      "text/plain": [
       "'swe_bench_comments_labeled.json'"
      ]
     },
     "execution_count": 19,
     "metadata": {},
     "output_type": "execute_result"
    }
   ],
   "execution_count": 19
  },
  {
   "metadata": {},
   "cell_type": "code",
   "outputs": [],
   "execution_count": null,
   "source": "",
   "id": "4190bb1febf2820f"
  }
 ],
 "metadata": {
  "kernelspec": {
   "display_name": "Python 3",
   "language": "python",
   "name": "python3"
  },
  "language_info": {
   "codemirror_mode": {
    "name": "ipython",
    "version": 2
   },
   "file_extension": ".py",
   "mimetype": "text/x-python",
   "name": "python",
   "nbconvert_exporter": "python",
   "pygments_lexer": "ipython2",
   "version": "2.7.6"
  }
 },
 "nbformat": 4,
 "nbformat_minor": 5
}
